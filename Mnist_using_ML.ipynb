{
 "cells": [
  {
   "cell_type": "code",
   "execution_count": 100,
   "metadata": {},
   "outputs": [],
   "source": [
    "import numpy as np\n",
    "import pandas as pd\n",
    "import matplotlib.pyplot as plt\n",
    "import os\n",
    "from sklearn.model_selection import train_test_split\n",
    "from sklearn.metrics import accuracy_score\n",
    "import pickle\n",
    "from sklearn.preprocessing import StandardScaler , MinMaxScaler\n",
    "from sklearn.metrics import confusion_matrix\n",
    "from sklearn.metrics import classification_report\n",
    "from sklearn import cross_validation , decomposition\n"
   ]
  },
  {
   "cell_type": "code",
   "execution_count": 101,
   "metadata": {},
   "outputs": [
    {
     "name": "stdout",
     "output_type": "stream",
     "text": [
      "(42000, 785)\n"
     ]
    },
    {
     "data": {
      "image/png": "[encoded data removed]",
      "text/plain": [
       "<matplotlib.figure.Figure at 0x1d1f7d23d68>"
      ]
     },
     "metadata": {},
     "output_type": "display_data"
    }
   ],
   "source": [
    "os.environ['TF_CPP_MIN_LOG_LEVEL'] = '2'\n",
    "train_dataset = pd.read_csv(r\"C:\\Users\\india\\mnist digit recognition\\train.csv\" )\n",
    "#print(train_dataset)\n",
    "train_dataset = np.array(train_dataset)\n",
    "print(train_dataset.shape)\n",
    "plt.imshow(train_dataset[1,1:].reshape(28,28))\n",
    "plt.show()"
   ]
  },
  {
   "cell_type": "code",
   "execution_count": 102,
   "metadata": {},
   "outputs": [
    {
     "name": "stdout",
     "output_type": "stream",
     "text": [
      "37800\n",
      "4200\n",
      "(42000, 784)\n",
      "[[1]\n",
      " [0]\n",
      " [1]\n",
      " [4]\n",
      " [0]]\n"
     ]
    }
   ],
   "source": [
    "#seperating features and labels and data preprocessing step\n",
    "features = train_dataset[: , 1:]\n",
    "labels = train_dataset[:,0].reshape(-1, 1)\n",
    "train_x , test_x  , train_y , test_y = train_test_split(features , labels , test_size = 0.10 , random_state = 42 )\n",
    "\n",
    "train_size = len(train_y)\n",
    "test_size = len(test_y)\n",
    "print(train_size)\n",
    "print(test_size)\n",
    "print(features.shape)\n",
    "print(labels[0:5])"
   ]
  },
  {
   "cell_type": "code",
   "execution_count": 103,
   "metadata": {},
   "outputs": [],
   "source": [
    "#importing classifier\n",
    "from sklearn.neighbors import KNeighborsClassifier"
   ]
  },
  {
   "cell_type": "code",
   "execution_count": 106,
   "metadata": {},
   "outputs": [
    {
     "name": "stderr",
     "output_type": "stream",
     "text": [
      "c:\\users\\india\\anaconda3\\envs\\tensorflow\\lib\\site-packages\\ipykernel_launcher.py:2: DataConversionWarning: A column-vector y was passed when a 1d array was expected. Please change the shape of y to (n_samples, ), for example using ravel().\n",
      "  \n"
     ]
    },
    {
     "data": {
      "text/plain": [
       "KNeighborsClassifier(algorithm='auto', leaf_size=30, metric='minkowski',\n",
       "           metric_params=None, n_jobs=1, n_neighbors=7, p=2,\n",
       "           weights='uniform')"
      ]
     },
     "execution_count": 106,
     "metadata": {},
     "output_type": "execute_result"
    }
   ],
   "source": [
    "KNN = KNeighborsClassifier(7)\n",
    "KNN.fit(train_x , train_y)"
   ]
  },
  {
   "cell_type": "code",
   "execution_count": 107,
   "metadata": {},
   "outputs": [
    {
     "name": "stdout",
     "output_type": "stream",
     "text": [
      "0.9416666666666667\n"
     ]
    }
   ],
   "source": [
    "pred_knn = KNN.predict(test_x)\n",
    "print(accuracy_score(pred , test_y))"
   ]
  },
  {
   "cell_type": "code",
   "execution_count": null,
   "metadata": {},
   "outputs": [],
   "source": [
    "print('CONFUSION MATRIX')\n",
    "confusion_matrix(pred_knn,test_y)"
   ]
  },
  {
   "cell_type": "code",
   "execution_count": null,
   "metadata": {},
   "outputs": [],
   "source": [
    "print(\"CLASSIFICATION REPORT\")\n",
    "print(classification_report(test_y, pred_knn))"
   ]
  },
  {
   "cell_type": "code",
   "execution_count": 9,
   "metadata": {},
   "outputs": [],
   "source": [
    "file = open('KNN.pkl' , 'wb')\n",
    "pickle.dump(KNN , file )"
   ]
  },
  {
   "cell_type": "code",
   "execution_count": 25,
   "metadata": {},
   "outputs": [
    {
     "name": "stdout",
     "output_type": "stream",
     "text": [
      "[8]\n"
     ]
    }
   ],
   "source": [
    "#testing a particular prediction\n",
    "ans = KNN.predict(test_x[4].reshape(1 , -1))\n",
    "print(ans)"
   ]
  },
  {
   "cell_type": "code",
   "execution_count": 14,
   "metadata": {},
   "outputs": [
    {
     "data": {
      "image/png": "[encoded data removed]",
      "text/plain": [
       "<matplotlib.figure.Figure at 0x14580eee898>"
      ]
     },
     "metadata": {},
     "output_type": "display_data"
    }
   ],
   "source": [
    "import csv\n",
    "KNN = pickle.load(open('KNN.pkl' , 'rb'))\n",
    "test_dataset = pd.read_csv(r\"C:\\Users\\india\\mnist digit recognition\\test.csv\" )\n",
    "plt.imshow(np.array(test_dataset)[1].reshape((28,28)))\n",
    "\n",
    "size = len(test_dataset)\n",
    "test_dataset = np.array(test_dataset)\n",
    "\n",
    "file = open('submission.csv' , \"w\")\n",
    "writer = csv.writer(file)\n",
    "writer.writerow(['ImageId','Label'])\n",
    "for i in range(0 , size , 1):\n",
    "    ans = KNN.predict(test_dataset[i].reshape(1 , -1))\n",
    "    lis = []\n",
    "    lis.append(str(i+1))\n",
    "    lis.append(str(ans[0]))\n",
    "    writer.writerow(lis)\n",
    "\n",
    "file.close()"
   ]
  },
  {
   "cell_type": "code",
   "execution_count": 15,
   "metadata": {},
   "outputs": [
    {
     "name": "stdout",
     "output_type": "stream",
     "text": [
      "(28000, 2)\n"
     ]
    }
   ],
   "source": [
    "testt = pd.read_csv('submission.csv' )\n",
    "print(testt.shape)"
   ]
  },
  {
   "cell_type": "markdown",
   "metadata": {},
   "source": [
    "# using dimensionality reduction on dataset and again applying the models "
   ]
  },
  {
   "cell_type": "code",
   "execution_count": 21,
   "metadata": {},
   "outputs": [
    {
     "name": "stderr",
     "output_type": "stream",
     "text": [
      "c:\\users\\india\\anaconda3\\envs\\tensorflow\\lib\\site-packages\\sklearn\\utils\\validation.py:475: DataConversionWarning: Data with input dtype int64 was converted to float64 by StandardScaler.\n",
      "  warnings.warn(msg, DataConversionWarning)\n"
     ]
    }
   ],
   "source": [
    "#applying feature scaling for principal component analysis (feature selection and its reduction)\n",
    "#used standard scaler to normalize the values about its mean = 0 , std = 1\n",
    "\n",
    "sc = StandardScaler()\n",
    "scaled_features = sc.fit_transform(features)\n",
    "#showing scaled feature"
   ]
  },
  {
   "cell_type": "code",
   "execution_count": 24,
   "metadata": {},
   "outputs": [],
   "source": [
    "scaled_train_x , scaled_test_x  , train_y , test_y = train_test_split(scaled_features , labels , test_size = 0.10 , random_state = 42 )"
   ]
  },
  {
   "cell_type": "code",
   "execution_count": 82,
   "metadata": {},
   "outputs": [
    {
     "name": "stdout",
     "output_type": "stream",
     "text": [
      "(37800, 445)\n"
     ]
    }
   ],
   "source": [
    "pca = decomposition.PCA(445)\n",
    "pca_train_x = pca.fit_transform(scaled_train_x)\n",
    "pca_test_x = pca.transform(scaled_test_x)\n",
    "print(pca_train_x.shape)"
   ]
  },
  {
   "cell_type": "code",
   "execution_count": 81,
   "metadata": {},
   "outputs": [
    {
     "name": "stdout",
     "output_type": "stream",
     "text": [
      "(784,)\n",
      "n_components :  445\n"
     ]
    }
   ],
   "source": [
    "#evaluating n_components for variance > 0.96 for high variance data\n",
    "v = pca.explained_variance_\n",
    "print(v.shape)\n",
    "total = v.sum()\n",
    "#print(total)\n",
    "sum = 0\n",
    "i = 0\n",
    "while i < v.shape[0] :\n",
    "    sum += v[i]\n",
    "    if (sum/total > 0.98) :\n",
    "        break\n",
    "    i +=1\n",
    "pca.n_components = i\n",
    "print('n_components : ' , i)"
   ]
  },
  {
   "cell_type": "code",
   "execution_count": 83,
   "metadata": {},
   "outputs": [
    {
     "name": "stderr",
     "output_type": "stream",
     "text": [
      "c:\\users\\india\\anaconda3\\envs\\tensorflow\\lib\\site-packages\\ipykernel_launcher.py:2: DataConversionWarning: A column-vector y was passed when a 1d array was expected. Please change the shape of y to (n_samples, ), for example using ravel().\n",
      "  \n"
     ]
    },
    {
     "data": {
      "text/plain": [
       "KNeighborsClassifier(algorithm='auto', leaf_size=30, metric='minkowski',\n",
       "           metric_params=None, n_jobs=1, n_neighbors=5, p=2,\n",
       "           weights='uniform')"
      ]
     },
     "execution_count": 83,
     "metadata": {},
     "output_type": "execute_result"
    }
   ],
   "source": [
    "KNN = KNeighborsClassifier(5 , n_jobs = -1)\n",
    "KNN.fit(pca_train_x , train_y)"
   ]
  },
  {
   "cell_type": "code",
   "execution_count": 84,
   "metadata": {},
   "outputs": [
    {
     "name": "stdout",
     "output_type": "stream",
     "text": [
      "0.9416666666666667\n"
     ]
    }
   ],
   "source": [
    "pred = KNN.predict(pca_test_x)\n",
    "print(accuracy_score(pred , test_y))"
   ]
  },
  {
   "cell_type": "code",
   "execution_count": 85,
   "metadata": {},
   "outputs": [
    {
     "name": "stdout",
     "output_type": "stream",
     "text": [
      "CONFUSION MATRIX\n"
     ]
    },
    {
     "data": {
      "text/plain": [
       "array([[404,   0,   4,   1,   0,   1,   9,   1,   2,   6],\n",
       "       [  0, 467,   5,   2,   1,   0,   0,  11,   8,   1],\n",
       "       [  0,   1, 393,   2,   3,   0,   1,   3,   4,   0],\n",
       "       [  0,   0,   4, 477,   0,   9,   0,   3,   9,   8],\n",
       "       [  0,   0,   1,   1, 377,   2,   0,   4,   5,   4],\n",
       "       [  0,   0,   0,   8,   2, 317,   4,   0,  18,   0],\n",
       "       [  4,   2,   4,   0,   2,   5, 388,   0,   4,   0],\n",
       "       [  0,   0,   3,   6,   0,   0,   0, 402,   1,  14],\n",
       "       [  0,   1,   4,   5,   0,   2,   0,   0, 350,   3],\n",
       "       [  0,   0,   2,   4,  12,   3,   0,  14,   2, 380]], dtype=int64)"
      ]
     },
     "execution_count": 85,
     "metadata": {},
     "output_type": "execute_result"
    }
   ],
   "source": [
    "print('CONFUSION MATRIX')\n",
    "confusion_matrix(pred,test_y)"
   ]
  },
  {
   "cell_type": "code",
   "execution_count": 86,
   "metadata": {},
   "outputs": [
    {
     "name": "stdout",
     "output_type": "stream",
     "text": [
      "CLASSIFICATION REPORT\n",
      "             precision    recall  f1-score   support\n",
      "\n",
      "          0       0.94      0.99      0.97       408\n",
      "          1       0.94      0.99      0.97       471\n",
      "          2       0.97      0.94      0.95       420\n",
      "          3       0.94      0.94      0.94       506\n",
      "          4       0.96      0.95      0.95       397\n",
      "          5       0.91      0.94      0.92       339\n",
      "          6       0.95      0.97      0.96       402\n",
      "          7       0.94      0.92      0.93       438\n",
      "          8       0.96      0.87      0.91       403\n",
      "          9       0.91      0.91      0.91       416\n",
      "\n",
      "avg / total       0.94      0.94      0.94      4200\n",
      "\n"
     ]
    }
   ],
   "source": [
    "print(\"CLASSIFICATION REPORT\")\n",
    "print(classification_report(test_y, pred))"
   ]
  }
 ],
 "metadata": {
  "kernelspec": {
   "display_name": "Python 3",
   "language": "python",
   "name": "python3"
  },
  "language_info": {
   "codemirror_mode": {
    "name": "ipython",
    "version": 3
   },
   "file_extension": ".py",
   "mimetype": "text/x-python",
   "name": "python",
   "nbconvert_exporter": "python",
   "pygments_lexer": "ipython3",
   "version": "3.6.3"
  }
 },
 "nbformat": 4,
 "nbformat_minor": 2
}
