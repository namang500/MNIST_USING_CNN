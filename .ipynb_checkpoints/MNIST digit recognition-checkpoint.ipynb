{
 "cells": [
  {
   "cell_type": "code",
   "execution_count": 1,
   "metadata": {},
   "outputs": [],
   "source": [
    "import numpy as np\n",
    "import tensorflow as tf\n",
    "import pandas as pd\n",
    "import csv\n",
    "import matplotlib.pyplot as plt\n",
    "from sklearn.preprocessing import OneHotEncoder\n",
    "from sklearn.model_selection import train_test_split\n",
    "import os\n"
   ]
  },
  {
   "cell_type": "code",
   "execution_count": 2,
   "metadata": {},
   "outputs": [
    {
     "name": "stdout",
     "output_type": "stream",
     "text": [
      "(42000, 785)\n"
     ]
    }
   ],
   "source": [
    "os.environ['TF_CPP_MIN_LOG_LEVEL'] = '2'\n",
    "train_dataset = pd.read_csv(r\"C:\\Users\\india\\mnist digit recognition\\train.csv\" )\n",
    "#print(train_dataset)\n",
    "train_dataset = np.array(train_dataset)\n",
    "print(train_dataset.shape)\n",
    "# plt.imshow(train_dataset[1,1:].reshape(28,28))\n",
    "# plt.show()"
   ]
  },
  {
   "cell_type": "code",
   "execution_count": 3,
   "metadata": {},
   "outputs": [
    {
     "name": "stdout",
     "output_type": "stream",
     "text": [
      "33600\n",
      "8400\n",
      "(42000, 784)\n",
      "[[0. 1. 0. 0. 0. 0. 0. 0. 0. 0.]\n",
      " [1. 0. 0. 0. 0. 0. 0. 0. 0. 0.]\n",
      " [0. 1. 0. 0. 0. 0. 0. 0. 0. 0.]\n",
      " [0. 0. 0. 0. 1. 0. 0. 0. 0. 0.]\n",
      " [1. 0. 0. 0. 0. 0. 0. 0. 0. 0.]]\n"
     ]
    }
   ],
   "source": [
    "features = train_dataset[: , 1:]\n",
    "labels = train_dataset[:,0].reshape(-1, 1)\n",
    "ppohe = OneHotEncoder()\n",
    "labels = ppohe.fit_transform(labels).toarray()\n",
    "train_x , test_x  , train_y , test_y = train_test_split(features , labels , test_size = 0.20 , random_state = 42 )\n",
    "\n",
    "train_size = len(train_y)\n",
    "test_size = len(test_y)\n",
    "print(train_size)\n",
    "print(test_size)\n",
    "print(features.shape)\n",
    "print(labels[0:5])"
   ]
  },
  {
   "cell_type": "code",
   "execution_count": 4,
   "metadata": {},
   "outputs": [],
   "source": [
    "def conv2d(x , W):\n",
    "    return tf.nn.conv2d(x , W , strides = [1 , 1 , 1 , 1] , padding = 'SAME' )\n",
    "\n",
    "def max_pool2d(x):\n",
    "    return tf.nn.max_pool(x , ksize = [1 , 2 , 2 , 1] , strides = [1 , 2 , 2 , 1] , padding = 'SAME' )\n"
   ]
  },
  {
   "cell_type": "code",
   "execution_count": 5,
   "metadata": {},
   "outputs": [],
   "source": [
    "def weight_variable(shape , name):\n",
    "    result = tf.truncated_normal(shape , stddev = 0.1)\n",
    "    return tf.Variable(result , name = name)\n",
    "\n",
    "def bias_variable(shape , name):\n",
    "    result = tf.constant(0.1 , shape = shape)\n",
    "    return tf.Variable(result , name = name)\n"
   ]
  },
  {
   "cell_type": "code",
   "execution_count": 6,
   "metadata": {},
   "outputs": [],
   "source": [
    "x = tf.placeholder(tf.float32 , shape = [None , 784] , name = \"x\")\n",
    "y_ = tf.placeholder(tf.float32 , shape = [None , 10] , name = \"y_\")\n",
    "\n",
    "weight_conv1 = weight_variable([5 , 5 , 1 , 32] , \"weight_conv1\")\n",
    "bias_conv1 = bias_variable([32] , \"bias_conv1\")\n",
    "\n",
    "#reshape the input image\n",
    "x_image = tf.reshape(x , [-1 , 28 , 28 , 1])\n",
    "\n",
    "conv1_output = tf.nn.relu(conv2d(x_image , weight_conv1) + bias_conv1)\n",
    "maxpool1 = max_pool2d(conv1_output)"
   ]
  },
  {
   "cell_type": "code",
   "execution_count": 7,
   "metadata": {},
   "outputs": [],
   "source": [
    "weight_conv2 = weight_variable([5 , 5 , 32 , 64] , \"weight_conv2\")\n",
    "bias_conv2 = bias_variable([64] , \"bias_conv2\" )\n",
    "\n",
    "conv2_output = tf.nn.relu(conv2d(maxpool1 , weight_conv2) + bias_conv2)\n",
    "maxpool2 = max_pool2d(conv2_output)"
   ]
  },
  {
   "cell_type": "code",
   "execution_count": 69,
   "metadata": {},
   "outputs": [],
   "source": [
    "weight_dense = weight_variable([7*7*64 , 1024] , \"weight_dense\")\n",
    "bias_dense = bias_variable([1024] , \"bias_dense\")\n",
    "\n",
    "#convert output max_pool to input neural network\n",
    "input_tensor = tf.reshape(maxpool2 , [-1 , 7*7*64])\n",
    "h_layer_output = tf.nn.relu(tf.matmul(input_tensor , weight_dense) + bias_dense)"
   ]
  },
  {
   "cell_type": "code",
   "execution_count": 70,
   "metadata": {},
   "outputs": [],
   "source": [
    "#create placeholder for storing dropout probabilities\n",
    "\n",
    "drop_prob = tf.placeholder(tf.float32 , name = \"drop_prob\")\n",
    "final_input = tf.nn.dropout(h_layer_output , drop_prob)"
   ]
  },
  {
   "cell_type": "code",
   "execution_count": 71,
   "metadata": {},
   "outputs": [],
   "source": [
    "final_weight = weight_variable([1024 , 10] , \"final_weight\")\n",
    "final_bias = bias_variable([10] , \"final_bias\")\n",
    "\n",
    "final_output = tf.matmul(final_input , final_weight) + final_bias"
   ]
  },
  {
   "cell_type": "code",
   "execution_count": 72,
   "metadata": {},
   "outputs": [],
   "source": [
    "\n",
    "cross_entropy = tf.reduce_mean(tf.nn.softmax_cross_entropy_with_logits(logits = final_output , labels = y_))\n",
    "train_step = tf.train.AdamOptimizer(1e-4).minimize(cross_entropy)\n",
    "\n",
    "pred = tf.equal(tf.argmax(final_output , 1) , tf.argmax(y_ , 1))\n",
    "accuracy = tf.reduce_mean(tf.cast(pred , tf.float32))\n"
   ]
  },
  {
   "cell_type": "code",
   "execution_count": null,
   "metadata": {},
   "outputs": [
    {
     "name": "stdout",
     "output_type": "stream",
     "text": [
      "WARNING:tensorflow:From <ipython-input-6-ffa6612ed840>:40: softmax_cross_entropy_with_logits (from tensorflow.python.ops.nn_ops) is deprecated and will be removed in a future version.\n",
      "Instructions for updating:\n",
      "\n",
      "Future major versions of TensorFlow will allow gradients to flow\n",
      "into the labels input on backprop by default.\n",
      "\n",
      "See tf.nn.softmax_cross_entropy_with_logits_v2.\n",
      "\n"
     ]
    }
   ],
   "source": [
    "graph = tf.Graph()\n",
    "with graph.as_default():\n",
    "    x = tf.placeholder(tf.float32 , shape = [None , 784] , name = \"x\")\n",
    "    y_ = tf.placeholder(tf.float32 , shape = [None , 10] , name = \"y_\")\n",
    "\n",
    "    weight_conv1 = weight_variable([5 , 5 , 1 , 32] , \"weight_conv1\")\n",
    "    bias_conv1 = bias_variable([32] , \"bias_conv1\")\n",
    "    \n",
    "    #reshape the input image\n",
    "    x_image = tf.reshape(x , [-1 , 28 , 28 , 1])\n",
    "\n",
    "    conv1_output = tf.nn.relu(conv2d(x_image , weight_conv1) + bias_conv1)\n",
    "    maxpool1 = max_pool2d(conv1_output)\n",
    "    \n",
    "    weight_conv2 = weight_variable([5 , 5 , 32 , 64] , \"weight_conv2\")\n",
    "    bias_conv2 = bias_variable([64] , \"bias_conv2\" )\n",
    "\n",
    "    conv2_output = tf.nn.relu(conv2d(maxpool1 , weight_conv2) + bias_conv2)\n",
    "    maxpool2 = max_pool2d(conv2_output)\n",
    "\n",
    "    weight_dense = weight_variable([7*7*64 , 1024] , \"weight_dense\")\n",
    "    bias_dense = bias_variable([1024] , \"bias_dense\")\n",
    "\n",
    "    #convert output max_pool to input neural network\n",
    "    input_tensor = tf.reshape(maxpool2 , [-1 , 7*7*64])\n",
    "    h_layer_output = tf.nn.relu(tf.matmul(input_tensor , weight_dense) + bias_dense)\n",
    "\n",
    "    #create placeholder for storing dropout probabilities\n",
    "\n",
    "    drop_prob = tf.placeholder(tf.float32 , name = \"drop_prob\")\n",
    "    final_input = tf.nn.dropout(h_layer_output , drop_prob)\n",
    "    \n",
    "\n",
    "\n",
    "    final_weight = weight_variable([1024 , 10] , \"final_weight\")\n",
    "    final_bias = bias_variable([10] , \"final_bias\")\n",
    "\n",
    "    y=tf.add(tf.matmul(final_input,final_weight),final_bias,name='result')\n",
    "\n",
    "    cross_entropy = tf.reduce_mean(tf.nn.softmax_cross_entropy_with_logits(logits = y , labels = y_))\n",
    "    train_step = tf.train.AdamOptimizer(1e-4).minimize(cross_entropy)\n",
    "    predictions = tf.argmax(y , axis = 1 , name = \"final_pred\")\n",
    "    pred = tf.equal( tf.argmax(y , 1) , tf.argmax(y_ , 1))\n",
    "    accuracy = tf.reduce_mean(tf.cast(pred , tf.float32))\n",
    "    \n",
    "    with tf.Session(config=tf.ConfigProto(allow_soft_placement=True, log_device_placement=True)) as sess:\n",
    "        sess.run(tf.global_variables_initializer())\n",
    "\n",
    "        for i in range(1):\n",
    "            for index, offset in enumerate(range(0, train_size, 10)):\n",
    "                    x_train, y_train = train_x[offset: offset + 10], train_y[offset: offset + 10]\n",
    "                #       x_train , y_train = tf.train.batch([train_x , train_y] , batch_size = 100)\n",
    "                    if i%100 == 0:\n",
    "                        train_accuracy = accuracy.eval(feed_dict={x:x_train, y_: y_train , drop_prob: 1.0 })\n",
    "                        print(\"step %d, training accuracy %g\"%(i, train_accuracy))\n",
    "                    train_step.run(feed_dict={x: x_train, y_: y_train , drop_prob: 0.5})\n",
    "\n",
    "        print(\"test accuracy %g\"%accuracy.eval(feed_dict={x:test_x, y_:test_y , drop_prob: 1.0}))\n",
    "        saver = tf.train.Saver()\n",
    "\n",
    "        save_path = saver.save(sess, \"/temp/model.ckpt\" ,global_step=1)\n",
    "        print(\"Model saved in path: %s\" % save_path)\n"
   ]
  },
  {
   "cell_type": "code",
   "execution_count": null,
   "metadata": {},
   "outputs": [
    {
     "name": "stdout",
     "output_type": "stream",
     "text": [
      "INFO:tensorflow:Restoring parameters from /temp/model.ckpt-1\n"
     ]
    }
   ],
   "source": [
    "with tf.Session(graph=graph) as sess:\n",
    "    saver.restore(sess , \"/temp/model.ckpt-1\")\n",
    "    _x  = graph.get_tensor_by_name('x:0')\n",
    "    _y  = graph.get_tensor_by_name('y_:0')\n",
    "    print(\"test accuracy %g\"%accuracy.eval(feed_dict={_x:test_x, _y:test_y , drop_prob: 1.0}))"
   ]
  },
  {
   "cell_type": "code",
   "execution_count": 1,
   "metadata": {},
   "outputs": [
    {
     "name": "stdout",
     "output_type": "stream",
     "text": [
      "[name: \"/device:CPU:0\"\n",
      "device_type: \"CPU\"\n",
      "memory_limit: 268435456\n",
      "locality {\n",
      "}\n",
      "incarnation: 15171101821263016761\n",
      ", name: \"/device:GPU:0\"\n",
      "device_type: \"GPU\"\n",
      "memory_limit: 3238717030\n",
      "locality {\n",
      "  bus_id: 1\n",
      "}\n",
      "incarnation: 13975276157294174305\n",
      "physical_device_desc: \"device: 0, name: GeForce GTX 960M, pci bus id: 0000:01:00.0, compute capability: 5.0\"\n",
      "]\n"
     ]
    }
   ],
   "source": [
    "from tensorflow.python.client import device_lib\n",
    "print(device_lib.list_local_devices())"
   ]
  }
 ],
 "metadata": {
  "kernelspec": {
   "display_name": "Python 3",
   "language": "python",
   "name": "python3"
  },
  "language_info": {
   "codemirror_mode": {
    "name": "ipython",
    "version": 3
   },
   "file_extension": ".py",
   "mimetype": "text/x-python",
   "name": "python",
   "nbconvert_exporter": "python",
   "pygments_lexer": "ipython3",
   "version": "3.6.3"
  }
 },
 "nbformat": 4,
 "nbformat_minor": 2
}
